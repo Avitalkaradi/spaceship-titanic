{
 "cells": [
  {
   "cell_type": "code",
   "execution_count": 122,
   "id": "c3011bcd",
   "metadata": {},
   "outputs": [
    {
     "name": "stdout",
     "output_type": "stream",
     "text": [
      "Requirement already satisfied: sweetviz in c:\\users\\user\\anaconda3\\lib\\site-packages (2.1.4)\n",
      "Requirement already satisfied: matplotlib>=3.1.3 in c:\\users\\user\\anaconda3\\lib\\site-packages (from sweetviz) (3.5.2)\n",
      "Requirement already satisfied: numpy>=1.16.0 in c:\\users\\user\\anaconda3\\lib\\site-packages (from sweetviz) (1.24.3)\n",
      "Requirement already satisfied: pandas!=1.0.0,!=1.0.1,!=1.0.2,>=0.25.3 in c:\\users\\user\\anaconda3\\lib\\site-packages (from sweetviz) (1.4.4)\n",
      "Requirement already satisfied: tqdm>=4.43.0 in c:\\users\\user\\anaconda3\\lib\\site-packages (from sweetviz) (4.64.1)\n",
      "Requirement already satisfied: scipy>=1.3.2 in c:\\users\\user\\anaconda3\\lib\\site-packages (from sweetviz) (1.9.1)\n",
      "Requirement already satisfied: jinja2>=2.11.1 in c:\\users\\user\\anaconda3\\lib\\site-packages (from sweetviz) (2.11.3)\n",
      "Requirement already satisfied: importlib-resources>=1.2.0 in c:\\users\\user\\anaconda3\\lib\\site-packages (from sweetviz) (5.12.0)\n",
      "Requirement already satisfied: zipp>=3.1.0 in c:\\users\\user\\anaconda3\\lib\\site-packages (from importlib-resources>=1.2.0->sweetviz) (3.8.0)\n",
      "Requirement already satisfied: MarkupSafe>=0.23 in c:\\users\\user\\anaconda3\\lib\\site-packages (from jinja2>=2.11.1->sweetviz) (2.0.1)\n",
      "Requirement already satisfied: pillow>=6.2.0 in c:\\users\\user\\anaconda3\\lib\\site-packages (from matplotlib>=3.1.3->sweetviz) (9.2.0)\n",
      "Requirement already satisfied: pyparsing>=2.2.1 in c:\\users\\user\\anaconda3\\lib\\site-packages (from matplotlib>=3.1.3->sweetviz) (3.0.9)\n",
      "Requirement already satisfied: python-dateutil>=2.7 in c:\\users\\user\\anaconda3\\lib\\site-packages (from matplotlib>=3.1.3->sweetviz) (2.8.2)\n",
      "Requirement already satisfied: fonttools>=4.22.0 in c:\\users\\user\\anaconda3\\lib\\site-packages (from matplotlib>=3.1.3->sweetviz) (4.25.0)\n",
      "Requirement already satisfied: packaging>=20.0 in c:\\users\\user\\anaconda3\\lib\\site-packages (from matplotlib>=3.1.3->sweetviz) (21.3)\n",
      "Requirement already satisfied: cycler>=0.10 in c:\\users\\user\\anaconda3\\lib\\site-packages (from matplotlib>=3.1.3->sweetviz) (0.11.0)\n",
      "Requirement already satisfied: kiwisolver>=1.0.1 in c:\\users\\user\\anaconda3\\lib\\site-packages (from matplotlib>=3.1.3->sweetviz) (1.4.2)\n",
      "Requirement already satisfied: pytz>=2020.1 in c:\\users\\user\\anaconda3\\lib\\site-packages (from pandas!=1.0.0,!=1.0.1,!=1.0.2,>=0.25.3->sweetviz) (2022.1)\n",
      "Requirement already satisfied: colorama in c:\\users\\user\\anaconda3\\lib\\site-packages (from tqdm>=4.43.0->sweetviz) (0.4.5)\n",
      "Requirement already satisfied: six>=1.5 in c:\\users\\user\\anaconda3\\lib\\site-packages (from python-dateutil>=2.7->matplotlib>=3.1.3->sweetviz) (1.16.0)\n"
     ]
    }
   ],
   "source": [
    "import pandas as pd\n",
    "import numpy as np\n",
    "!pip install sweetviz\n",
    "import sweetviz as sv\n",
    "import warnings\n",
    "import matplotlib.pyplot as plt\n",
    "import seaborn as sns\n",
    "import missingno as msno\n",
    "#!pip uninstall numpy pandas\n",
    "#!pip install numpy pandas\n",
    "%matplotlib inline\n",
    "import sklearn\n",
    "from sklearn.cluster import KMeans\n",
    "from sklearn.cluster import DBSCAN\n",
    "from sklearn.metrics import confusion_matrix\n",
    "import warnings "
   ]
  },
  {
   "cell_type": "code",
   "execution_count": 123,
   "id": "92f318b0",
   "metadata": {},
   "outputs": [],
   "source": [
    "#df = pd.read_csv(\"C:/Users/user/OneDrive/שולחן העבודה/Project Avital Spaceship Titanic/clean_merged_df.csv\", index_col=0)"
   ]
  },
  {
   "cell_type": "code",
   "execution_count": 129,
   "id": "82af4659",
   "metadata": {},
   "outputs": [],
   "source": [
    "df = pd.read_pickle('df.pk2')"
   ]
  },
  {
   "cell_type": "code",
   "execution_count": 130,
   "id": "032cbaa2",
   "metadata": {},
   "outputs": [],
   "source": [
    "df_target_null = df[df['Transported'].isnull()]"
   ]
  },
  {
   "cell_type": "code",
   "execution_count": 131,
   "id": "402d015a",
   "metadata": {},
   "outputs": [
    {
     "data": {
      "text/html": [
       "<div>\n",
       "<style scoped>\n",
       "    .dataframe tbody tr th:only-of-type {\n",
       "        vertical-align: middle;\n",
       "    }\n",
       "\n",
       "    .dataframe tbody tr th {\n",
       "        vertical-align: top;\n",
       "    }\n",
       "\n",
       "    .dataframe thead th {\n",
       "        text-align: right;\n",
       "    }\n",
       "</style>\n",
       "<table border=\"1\" class=\"dataframe\">\n",
       "  <thead>\n",
       "    <tr style=\"text-align: right;\">\n",
       "      <th></th>\n",
       "      <th>PassengerId</th>\n",
       "      <th>HomePlanet</th>\n",
       "      <th>CryoSleep</th>\n",
       "      <th>Cabin</th>\n",
       "      <th>Destination</th>\n",
       "      <th>Age</th>\n",
       "      <th>VIP</th>\n",
       "      <th>RoomService</th>\n",
       "      <th>FoodCourt</th>\n",
       "      <th>ShoppingMall</th>\n",
       "      <th>Spa</th>\n",
       "      <th>VRDeck</th>\n",
       "      <th>Name</th>\n",
       "      <th>a</th>\n",
       "      <th>b</th>\n",
       "      <th>c</th>\n",
       "      <th>Transported</th>\n",
       "      <th>Cbin</th>\n",
       "    </tr>\n",
       "  </thead>\n",
       "  <tbody>\n",
       "  </tbody>\n",
       "</table>\n",
       "</div>"
      ],
      "text/plain": [
       "Empty DataFrame\n",
       "Columns: [PassengerId, HomePlanet, CryoSleep, Cabin, Destination, Age, VIP, RoomService, FoodCourt, ShoppingMall, Spa, VRDeck, Name, a, b, c, Transported, Cbin]\n",
       "Index: []"
      ]
     },
     "execution_count": 131,
     "metadata": {},
     "output_type": "execute_result"
    }
   ],
   "source": [
    "df_target_null.head()"
   ]
  },
  {
   "cell_type": "code",
   "execution_count": 132,
   "id": "55562d2d",
   "metadata": {},
   "outputs": [
    {
     "name": "stdout",
     "output_type": "stream",
     "text": [
      "<class 'pandas.core.frame.DataFrame'>\n",
      "Int64Index: 8693 entries, 4277 to 12969\n",
      "Data columns (total 18 columns):\n",
      " #   Column        Non-Null Count  Dtype\n",
      "---  ------        --------------  -----\n",
      " 0   PassengerId   8693 non-null   int64\n",
      " 1   HomePlanet    8693 non-null   int32\n",
      " 2   CryoSleep     8693 non-null   int64\n",
      " 3   Cabin         8693 non-null   int32\n",
      " 4   Destination   8693 non-null   int32\n",
      " 5   Age           8693 non-null   int64\n",
      " 6   VIP           8693 non-null   int64\n",
      " 7   RoomService   8693 non-null   int64\n",
      " 8   FoodCourt     8693 non-null   int64\n",
      " 9   ShoppingMall  8693 non-null   int64\n",
      " 10  Spa           8693 non-null   int64\n",
      " 11  VRDeck        8693 non-null   int64\n",
      " 12  Name          8693 non-null   int32\n",
      " 13  a             8693 non-null   int32\n",
      " 14  b             8693 non-null   int32\n",
      " 15  c             8693 non-null   int32\n",
      " 16  Transported   8693 non-null   int64\n",
      " 17  Cbin          8693 non-null   int32\n",
      "dtypes: int32(8), int64(10)\n",
      "memory usage: 1018.7 KB\n"
     ]
    }
   ],
   "source": [
    "df.info()"
   ]
  },
  {
   "cell_type": "code",
   "execution_count": 133,
   "id": "d8afe96c",
   "metadata": {},
   "outputs": [],
   "source": [
    "# Split the data into X (features) and y (target) for training\n",
    "X_train = df.drop(columns=['Transported'])  \n",
    "y_train = df['Transported']  \n"
   ]
  },
  {
   "cell_type": "code",
   "execution_count": 134,
   "id": "8cfbd1a5",
   "metadata": {},
   "outputs": [
    {
     "data": {
      "text/plain": [
       "XGBClassifier(base_score=None, booster=None, callbacks=None,\n",
       "              colsample_bylevel=None, colsample_bynode=None,\n",
       "              colsample_bytree=None, early_stopping_rounds=None,\n",
       "              enable_categorical=False, eval_metric=None, feature_types=None,\n",
       "              gamma=None, gpu_id=None, grow_policy=None, importance_type=None,\n",
       "              interaction_constraints=None, learning_rate=None, max_bin=None,\n",
       "              max_cat_threshold=None, max_cat_to_onehot=None,\n",
       "              max_delta_step=None, max_depth=None, max_leaves=None,\n",
       "              min_child_weight=None, missing=nan, monotone_constraints=None,\n",
       "              n_estimators=100, n_jobs=None, num_parallel_tree=None,\n",
       "              predictor=None, random_state=None, ...)"
      ]
     },
     "execution_count": 134,
     "metadata": {},
     "output_type": "execute_result"
    }
   ],
   "source": [
    "import xgboost as xgb\n",
    "\n",
    "XG=xgb.XGBClassifier()\n",
    "XG.fit(X_train, y_train)"
   ]
  },
  {
   "cell_type": "code",
   "execution_count": 135,
   "id": "ae5b1135",
   "metadata": {},
   "outputs": [],
   "source": [
    "\n",
    "# Predict the missing values\n",
    "X_predict = df.drop(columns=['Transported'])  # Features with missing values\n",
    "predicted_values = XG.predict(X_predict)\n"
   ]
  },
  {
   "cell_type": "code",
   "execution_count": 137,
   "id": "2c90f330",
   "metadata": {},
   "outputs": [],
   "source": [
    "# Fill in the missing values with the predicted values\n",
    "df['Transported'] = predicted_values\n"
   ]
  },
  {
   "cell_type": "code",
   "execution_count": 138,
   "id": "7453202c",
   "metadata": {},
   "outputs": [
    {
     "name": "stdout",
     "output_type": "stream",
     "text": [
      "<class 'pandas.core.frame.DataFrame'>\n",
      "Int64Index: 8693 entries, 4277 to 12969\n",
      "Data columns (total 18 columns):\n",
      " #   Column        Non-Null Count  Dtype\n",
      "---  ------        --------------  -----\n",
      " 0   PassengerId   8693 non-null   int64\n",
      " 1   HomePlanet    8693 non-null   int32\n",
      " 2   CryoSleep     8693 non-null   int64\n",
      " 3   Cabin         8693 non-null   int32\n",
      " 4   Destination   8693 non-null   int32\n",
      " 5   Age           8693 non-null   int64\n",
      " 6   VIP           8693 non-null   int64\n",
      " 7   RoomService   8693 non-null   int64\n",
      " 8   FoodCourt     8693 non-null   int64\n",
      " 9   ShoppingMall  8693 non-null   int64\n",
      " 10  Spa           8693 non-null   int64\n",
      " 11  VRDeck        8693 non-null   int64\n",
      " 12  Name          8693 non-null   int32\n",
      " 13  a             8693 non-null   int32\n",
      " 14  b             8693 non-null   int32\n",
      " 15  c             8693 non-null   int32\n",
      " 16  Transported   8693 non-null   int32\n",
      " 17  Cbin          8693 non-null   int32\n",
      "dtypes: int32(9), int64(9)\n",
      "memory usage: 984.8 KB\n"
     ]
    }
   ],
   "source": [
    "df.info()"
   ]
  },
  {
   "cell_type": "code",
   "execution_count": 104,
   "id": "a98e584e",
   "metadata": {},
   "outputs": [
    {
     "name": "stdout",
     "output_type": "stream",
     "text": [
      "<class 'pandas.core.frame.DataFrame'>\n",
      "Int64Index: 4277 entries, 0 to 4276\n",
      "Data columns (total 17 columns):\n",
      " #   Column        Non-Null Count  Dtype  \n",
      "---  ------        --------------  -----  \n",
      " 0   PassengerId   4277 non-null   int64  \n",
      " 1   HomePlanet    4277 non-null   object \n",
      " 2   CryoSleep     4277 non-null   float64\n",
      " 3   Cabin         4277 non-null   object \n",
      " 4   Destination   4277 non-null   object \n",
      " 5   Age           4277 non-null   float64\n",
      " 6   VIP           4277 non-null   float64\n",
      " 7   RoomService   4277 non-null   float64\n",
      " 8   FoodCourt     4277 non-null   float64\n",
      " 9   ShoppingMall  4277 non-null   float64\n",
      " 10  Spa           4277 non-null   float64\n",
      " 11  VRDeck        4277 non-null   float64\n",
      " 12  Name          4277 non-null   object \n",
      " 13  a             4277 non-null   object \n",
      " 14  b             4277 non-null   object \n",
      " 15  c             4277 non-null   object \n",
      " 16  Transported   0 non-null      object \n",
      "dtypes: float64(8), int64(1), object(8)\n",
      "memory usage: 601.5+ KB\n"
     ]
    }
   ],
   "source": [
    "df_target_null.info()"
   ]
  },
  {
   "cell_type": "code",
   "execution_count": 105,
   "id": "41eac7cf",
   "metadata": {},
   "outputs": [],
   "source": [
    "from sklearn.preprocessing import LabelEncoder, OneHotEncoder"
   ]
  },
  {
   "cell_type": "code",
   "execution_count": 106,
   "id": "a6bcfafe",
   "metadata": {},
   "outputs": [],
   "source": [
    "df_encoded= df_target_null.copy()"
   ]
  },
  {
   "cell_type": "code",
   "execution_count": 107,
   "id": "d5ea2ffe",
   "metadata": {},
   "outputs": [],
   "source": [
    "label_encoder = LabelEncoder()"
   ]
  },
  {
   "cell_type": "code",
   "execution_count": 108,
   "id": "5c47cf7f",
   "metadata": {},
   "outputs": [],
   "source": [
    "for column in df_target_null:\n",
    "    df_encoded[column] = label_encoder.fit_transform(df_target_null[column])"
   ]
  },
  {
   "cell_type": "code",
   "execution_count": 109,
   "id": "fd7a6b84",
   "metadata": {},
   "outputs": [
    {
     "name": "stderr",
     "output_type": "stream",
     "text": [
      "C:\\Users\\user\\AppData\\Local\\Temp\\ipykernel_1212\\585265034.py:2: SettingWithCopyWarning: \n",
      "A value is trying to be set on a copy of a slice from a DataFrame.\n",
      "Try using .loc[row_indexer,col_indexer] = value instead\n",
      "\n",
      "See the caveats in the documentation: https://pandas.pydata.org/pandas-docs/stable/user_guide/indexing.html#returning-a-view-versus-a-copy\n",
      "  df_target_null[column] = df_encoded[column]\n"
     ]
    }
   ],
   "source": [
    "for column in df_encoded:\n",
    "    df_target_null[column] = df_encoded[column]"
   ]
  },
  {
   "cell_type": "code",
   "execution_count": 110,
   "id": "de3b4f46",
   "metadata": {},
   "outputs": [
    {
     "data": {
      "text/plain": [
       "PassengerId        0\n",
       "HomePlanet         0\n",
       "CryoSleep          0\n",
       "Cabin              0\n",
       "Destination        0\n",
       "Age                0\n",
       "VIP                0\n",
       "RoomService        0\n",
       "FoodCourt          0\n",
       "ShoppingMall       0\n",
       "Spa                0\n",
       "VRDeck             0\n",
       "Name               0\n",
       "a                  0\n",
       "b                  0\n",
       "c                  0\n",
       "Transported     4277\n",
       "dtype: int64"
      ]
     },
     "execution_count": 110,
     "metadata": {},
     "output_type": "execute_result"
    }
   ],
   "source": [
    "df.isnull().sum()"
   ]
  },
  {
   "cell_type": "code",
   "execution_count": 111,
   "id": "6011737b",
   "metadata": {},
   "outputs": [
    {
     "name": "stdout",
     "output_type": "stream",
     "text": [
      "<class 'pandas.core.frame.DataFrame'>\n",
      "Int64Index: 12970 entries, 0 to 12969\n",
      "Data columns (total 17 columns):\n",
      " #   Column        Non-Null Count  Dtype  \n",
      "---  ------        --------------  -----  \n",
      " 0   PassengerId   12970 non-null  int64  \n",
      " 1   HomePlanet    12970 non-null  object \n",
      " 2   CryoSleep     12970 non-null  float64\n",
      " 3   Cabin         12970 non-null  object \n",
      " 4   Destination   12970 non-null  object \n",
      " 5   Age           12970 non-null  float64\n",
      " 6   VIP           12970 non-null  float64\n",
      " 7   RoomService   12970 non-null  float64\n",
      " 8   FoodCourt     12970 non-null  float64\n",
      " 9   ShoppingMall  12970 non-null  float64\n",
      " 10  Spa           12970 non-null  float64\n",
      " 11  VRDeck        12970 non-null  float64\n",
      " 12  Name          12970 non-null  object \n",
      " 13  a             12970 non-null  object \n",
      " 14  b             12970 non-null  object \n",
      " 15  c             12970 non-null  object \n",
      " 16  Transported   8693 non-null   object \n",
      "dtypes: float64(8), int64(1), object(8)\n",
      "memory usage: 1.8+ MB\n"
     ]
    }
   ],
   "source": [
    "df.info()"
   ]
  },
  {
   "cell_type": "code",
   "execution_count": 113,
   "id": "b022acdc",
   "metadata": {},
   "outputs": [],
   "source": [
    "#KNN\n",
    "#Imputed data\n",
    "#from sklearn.impute import KNNImputer\n",
    "#imputer=KNNImputer()\n",
    "#imputed_df = continuous_df.copy()\n",
    "#imp_cols = imputed_df.select_dtypes(include = ['float64', 'int64']).columns\n",
    "#knn_imputer = KNNImputer(n_neighbors=2)\n",
    "#imputed_data = pd.DataFrame(knn_imputer.fit_transform(df),columns = df.columns)"
   ]
  },
  {
   "cell_type": "code",
   "execution_count": 114,
   "id": "5e10ff69",
   "metadata": {},
   "outputs": [],
   "source": [
    "import pandas as pd\n",
    "from sklearn.model_selection import train_test_split\n",
    "from sklearn.neighbors import KNeighborsClassifier\n",
    "from sklearn.metrics import accuracy_score\n",
    "\n",
    "# הגדרת פונקציה לביצוע KNN\n",
    "def knn_classification(df, target_column_name, k_neighbors=3):\n",
    "    # הפרדת המשתנה המטרה מהדאטה\n",
    "    X = df.drop(columns=[target_column_name])\n",
    "    y = df[target_column_name]\n",
    "    \n",
    "    # חלוקת הדאטה לסט טריין וסט טסט\n",
    "    X_train, X_test, y_train, y_test = train_test_split(X, y, test_size=0.2, random_state=42)\n",
    "    \n",
    "    # יצירת המודל\n",
    "    knn_model = KNeighborsClassifier(n_neighbors=k_neighbors)\n",
    "    \n",
    "    # אימון המודל על סט הטריין\n",
    "    knn_model.fit(X_train, y_train)\n",
    "    \n",
    "    # חיזוי הערכים על סט הטסט\n",
    "    y_pred = knn_model.predict(X_test)\n",
    "    \n",
    "    # חישוב הדיוק של המודל\n",
    "    accuracy = accuracy_score(y_test, y_pred)\n",
    "    \n",
    "    return knn_model, accuracy\n",
    "\n",
    "\n",
    "    \n",
    "    # קריאה לפונקציה עם הדאטה שברצונך לבדוק, ושם העמודה של שאלת המחקר\n",
    "    knn_model, accuracy = knn_classification(df, target_column_name='transported', k_neighbors=5)\n",
    "    \n",
    "    print(f'Accuracy: {accuracy * 100:.2f}%')"
   ]
  },
  {
   "cell_type": "code",
   "execution_count": 116,
   "id": "0f43aa45",
   "metadata": {},
   "outputs": [],
   "source": [
    "# Split the data into X (features) and y (target) for training\n",
    "X_train = df.drop(columns=['Transported'])  \n",
    "y_train = df['Transported']  \n"
   ]
  },
  {
   "cell_type": "code",
   "execution_count": 118,
   "id": "c7a92a54",
   "metadata": {},
   "outputs": [
    {
     "ename": "ValueError",
     "evalue": "Invalid classes inferred from unique values of `y`.  Expected: [   0    1    2 ... 4283 4284 4285], got [nan False True ... nan nan True]",
     "output_type": "error",
     "traceback": [
      "\u001b[1;31m---------------------------------------------------------------------------\u001b[0m",
      "\u001b[1;31mValueError\u001b[0m                                Traceback (most recent call last)",
      "\u001b[1;32m~\\AppData\\Local\\Temp\\ipykernel_1212\\967842548.py\u001b[0m in \u001b[0;36m<module>\u001b[1;34m\u001b[0m\n\u001b[0;32m      2\u001b[0m \u001b[1;33m\u001b[0m\u001b[0m\n\u001b[0;32m      3\u001b[0m \u001b[0mXG\u001b[0m\u001b[1;33m=\u001b[0m\u001b[0mxgb\u001b[0m\u001b[1;33m.\u001b[0m\u001b[0mXGBClassifier\u001b[0m\u001b[1;33m(\u001b[0m\u001b[1;33m)\u001b[0m\u001b[1;33m\u001b[0m\u001b[1;33m\u001b[0m\u001b[0m\n\u001b[1;32m----> 4\u001b[1;33m \u001b[0mXG\u001b[0m\u001b[1;33m.\u001b[0m\u001b[0mfit\u001b[0m\u001b[1;33m(\u001b[0m\u001b[0mX_train\u001b[0m\u001b[1;33m,\u001b[0m \u001b[0my_train\u001b[0m\u001b[1;33m)\u001b[0m\u001b[1;33m\u001b[0m\u001b[1;33m\u001b[0m\u001b[0m\n\u001b[0m",
      "\u001b[1;32m~\\anaconda3\\lib\\site-packages\\xgboost\\core.py\u001b[0m in \u001b[0;36minner_f\u001b[1;34m(*args, **kwargs)\u001b[0m\n\u001b[0;32m    618\u001b[0m             \u001b[1;32mfor\u001b[0m \u001b[0mk\u001b[0m\u001b[1;33m,\u001b[0m \u001b[0marg\u001b[0m \u001b[1;32min\u001b[0m \u001b[0mzip\u001b[0m\u001b[1;33m(\u001b[0m\u001b[0msig\u001b[0m\u001b[1;33m.\u001b[0m\u001b[0mparameters\u001b[0m\u001b[1;33m,\u001b[0m \u001b[0margs\u001b[0m\u001b[1;33m)\u001b[0m\u001b[1;33m:\u001b[0m\u001b[1;33m\u001b[0m\u001b[1;33m\u001b[0m\u001b[0m\n\u001b[0;32m    619\u001b[0m                 \u001b[0mkwargs\u001b[0m\u001b[1;33m[\u001b[0m\u001b[0mk\u001b[0m\u001b[1;33m]\u001b[0m \u001b[1;33m=\u001b[0m \u001b[0marg\u001b[0m\u001b[1;33m\u001b[0m\u001b[1;33m\u001b[0m\u001b[0m\n\u001b[1;32m--> 620\u001b[1;33m             \u001b[1;32mreturn\u001b[0m \u001b[0mfunc\u001b[0m\u001b[1;33m(\u001b[0m\u001b[1;33m**\u001b[0m\u001b[0mkwargs\u001b[0m\u001b[1;33m)\u001b[0m\u001b[1;33m\u001b[0m\u001b[1;33m\u001b[0m\u001b[0m\n\u001b[0m\u001b[0;32m    621\u001b[0m \u001b[1;33m\u001b[0m\u001b[0m\n\u001b[0;32m    622\u001b[0m         \u001b[1;32mreturn\u001b[0m \u001b[0minner_f\u001b[0m\u001b[1;33m\u001b[0m\u001b[1;33m\u001b[0m\u001b[0m\n",
      "\u001b[1;32m~\\anaconda3\\lib\\site-packages\\xgboost\\sklearn.py\u001b[0m in \u001b[0;36mfit\u001b[1;34m(self, X, y, sample_weight, base_margin, eval_set, eval_metric, early_stopping_rounds, verbose, xgb_model, sample_weight_eval_set, base_margin_eval_set, feature_weights, callbacks)\u001b[0m\n\u001b[0;32m   1438\u001b[0m                 \u001b[1;32mor\u001b[0m \u001b[1;32mnot\u001b[0m \u001b[1;33m(\u001b[0m\u001b[0mself\u001b[0m\u001b[1;33m.\u001b[0m\u001b[0mclasses_\u001b[0m \u001b[1;33m==\u001b[0m \u001b[0mexpected_classes\u001b[0m\u001b[1;33m)\u001b[0m\u001b[1;33m.\u001b[0m\u001b[0mall\u001b[0m\u001b[1;33m(\u001b[0m\u001b[1;33m)\u001b[0m\u001b[1;33m\u001b[0m\u001b[1;33m\u001b[0m\u001b[0m\n\u001b[0;32m   1439\u001b[0m             ):\n\u001b[1;32m-> 1440\u001b[1;33m                 raise ValueError(\n\u001b[0m\u001b[0;32m   1441\u001b[0m                     \u001b[1;34mf\"Invalid classes inferred from unique values of `y`.  \"\u001b[0m\u001b[1;33m\u001b[0m\u001b[1;33m\u001b[0m\u001b[0m\n\u001b[0;32m   1442\u001b[0m                     \u001b[1;34mf\"Expected: {expected_classes}, got {self.classes_}\"\u001b[0m\u001b[1;33m\u001b[0m\u001b[1;33m\u001b[0m\u001b[0m\n",
      "\u001b[1;31mValueError\u001b[0m: Invalid classes inferred from unique values of `y`.  Expected: [   0    1    2 ... 4283 4284 4285], got [nan False True ... nan nan True]"
     ]
    }
   ],
   "source": [
    "import xgboost as xgb\n",
    "\n",
    "XG=xgb.XGBClassifier()\n",
    "XG.fit(X_train, y_train)\n"
   ]
  },
  {
   "cell_type": "code",
   "execution_count": 121,
   "id": "6c75f415",
   "metadata": {},
   "outputs": [
    {
     "ename": "NameError",
     "evalue": "name 'predicted_values' is not defined",
     "output_type": "error",
     "traceback": [
      "\u001b[1;31m---------------------------------------------------------------------------\u001b[0m",
      "\u001b[1;31mNameError\u001b[0m                                 Traceback (most recent call last)",
      "\u001b[1;32m~\\AppData\\Local\\Temp\\ipykernel_1212\\1623596401.py\u001b[0m in \u001b[0;36m<module>\u001b[1;34m\u001b[0m\n\u001b[0;32m      1\u001b[0m \u001b[1;31m# Fill in the missing values with the predicted values\u001b[0m\u001b[1;33m\u001b[0m\u001b[1;33m\u001b[0m\u001b[0m\n\u001b[1;32m----> 2\u001b[1;33m \u001b[0mdata_with_missing\u001b[0m\u001b[1;33m[\u001b[0m\u001b[1;34m'Transported'\u001b[0m\u001b[1;33m]\u001b[0m \u001b[1;33m=\u001b[0m \u001b[0mpredicted_values\u001b[0m\u001b[1;33m\u001b[0m\u001b[1;33m\u001b[0m\u001b[0m\n\u001b[0m",
      "\u001b[1;31mNameError\u001b[0m: name 'predicted_values' is not defined"
     ]
    }
   ],
   "source": [
    "# Fill in the missing values with the predicted values\n",
    "data_with_missing['Transported'] = predicted_values\n"
   ]
  },
  {
   "cell_type": "code",
   "execution_count": null,
   "id": "5fb922e9",
   "metadata": {},
   "outputs": [],
   "source": []
  }
 ],
 "metadata": {
  "kernelspec": {
   "display_name": "Python 3 (ipykernel)",
   "language": "python",
   "name": "python3"
  },
  "language_info": {
   "codemirror_mode": {
    "name": "ipython",
    "version": 3
   },
   "file_extension": ".py",
   "mimetype": "text/x-python",
   "name": "python",
   "nbconvert_exporter": "python",
   "pygments_lexer": "ipython3",
   "version": "3.9.13"
  }
 },
 "nbformat": 4,
 "nbformat_minor": 5
}
