{
 "cells": [
  {
   "cell_type": "code",
   "execution_count": 1,
   "metadata": {
    "executionInfo": {
     "elapsed": 775,
     "status": "ok",
     "timestamp": 1618569575339,
     "user": {
      "displayName": "מריה גרוס",
      "photoUrl": "https://lh3.googleusercontent.com/a-/AOh14GgfPSf2rr-MD7FgsyvUCFTAV3ZmLb9lOsoS6Sd9QQ=s64",
      "userId": "08132352751773895933"
     },
     "user_tz": -180
    },
    "id": "Rz8PKWVGxfKE"
   },
   "outputs": [],
   "source": [
    "import numpy as np\n",
    "import matplotlib.pyplot as plt\n",
    "import pandas as pd\n",
    "from sklearn.model_selection import train_test_split as split\n",
    "from sklearn.metrics import confusion_matrix, classification_report, accuracy_score\n",
    "from sklearn.linear_model import LogisticRegression\n",
    "from sklearn.datasets import load_iris\n",
    "import seaborn as sns\n",
    "from mpl_toolkits.mplot3d import Axes3D\n",
    "import warnings"
   ]
  },
  {
   "cell_type": "code",
   "execution_count": 2,
   "metadata": {
    "executionInfo": {
     "elapsed": 770,
     "status": "ok",
     "timestamp": 1618569575341,
     "user": {
      "displayName": "מריה גרוס",
      "photoUrl": "https://lh3.googleusercontent.com/a-/AOh14GgfPSf2rr-MD7FgsyvUCFTAV3ZmLb9lOsoS6Sd9QQ=s64",
      "userId": "08132352751773895933"
     },
     "user_tz": -180
    },
    "id": "0vOBaG_ex0L0"
   },
   "outputs": [],
   "source": [
    "df = pd.read_pickle('df.pk2')"
   ]
  },
  {
   "cell_type": "code",
   "execution_count": 3,
   "metadata": {
    "colab": {
     "base_uri": "https://localhost:8080/",
     "height": 239
    },
    "executionInfo": {
     "elapsed": 1464,
     "status": "ok",
     "timestamp": 1618569576037,
     "user": {
      "displayName": "מריה גרוס",
      "photoUrl": "https://lh3.googleusercontent.com/a-/AOh14GgfPSf2rr-MD7FgsyvUCFTAV3ZmLb9lOsoS6Sd9QQ=s64",
      "userId": "08132352751773895933"
     },
     "user_tz": -180
    },
    "id": "z8QGF8HEx0Je",
    "outputId": "ba1f9cd7-c675-46d2-b81d-def9c55ca2d7"
   },
   "outputs": [
    {
     "data": {
      "text/html": [
       "<div>\n",
       "<style scoped>\n",
       "    .dataframe tbody tr th:only-of-type {\n",
       "        vertical-align: middle;\n",
       "    }\n",
       "\n",
       "    .dataframe tbody tr th {\n",
       "        vertical-align: top;\n",
       "    }\n",
       "\n",
       "    .dataframe thead th {\n",
       "        text-align: right;\n",
       "    }\n",
       "</style>\n",
       "<table border=\"1\" class=\"dataframe\">\n",
       "  <thead>\n",
       "    <tr style=\"text-align: right;\">\n",
       "      <th></th>\n",
       "      <th>PassengerId</th>\n",
       "      <th>HomePlanet</th>\n",
       "      <th>CryoSleep</th>\n",
       "      <th>Cabin</th>\n",
       "      <th>Destination</th>\n",
       "      <th>Age</th>\n",
       "      <th>VIP</th>\n",
       "      <th>RoomService</th>\n",
       "      <th>FoodCourt</th>\n",
       "      <th>ShoppingMall</th>\n",
       "      <th>Spa</th>\n",
       "      <th>VRDeck</th>\n",
       "      <th>Name</th>\n",
       "      <th>a</th>\n",
       "      <th>b</th>\n",
       "      <th>c</th>\n",
       "      <th>Transported</th>\n",
       "      <th>Cbin</th>\n",
       "    </tr>\n",
       "  </thead>\n",
       "  <tbody>\n",
       "    <tr>\n",
       "      <th>4277</th>\n",
       "      <td>0</td>\n",
       "      <td>1</td>\n",
       "      <td>0</td>\n",
       "      <td>149</td>\n",
       "      <td>2</td>\n",
       "      <td>39</td>\n",
       "      <td>0</td>\n",
       "      <td>0</td>\n",
       "      <td>0</td>\n",
       "      <td>0</td>\n",
       "      <td>0</td>\n",
       "      <td>0</td>\n",
       "      <td>5252</td>\n",
       "      <td>1</td>\n",
       "      <td>0</td>\n",
       "      <td>0</td>\n",
       "      <td>0</td>\n",
       "      <td>0</td>\n",
       "    </tr>\n",
       "    <tr>\n",
       "      <th>4278</th>\n",
       "      <td>1</td>\n",
       "      <td>0</td>\n",
       "      <td>0</td>\n",
       "      <td>2184</td>\n",
       "      <td>2</td>\n",
       "      <td>24</td>\n",
       "      <td>0</td>\n",
       "      <td>109</td>\n",
       "      <td>9</td>\n",
       "      <td>25</td>\n",
       "      <td>458</td>\n",
       "      <td>47</td>\n",
       "      <td>4502</td>\n",
       "      <td>5</td>\n",
       "      <td>0</td>\n",
       "      <td>1</td>\n",
       "      <td>1</td>\n",
       "      <td>0</td>\n",
       "    </tr>\n",
       "    <tr>\n",
       "      <th>4279</th>\n",
       "      <td>2</td>\n",
       "      <td>1</td>\n",
       "      <td>0</td>\n",
       "      <td>1</td>\n",
       "      <td>2</td>\n",
       "      <td>58</td>\n",
       "      <td>1</td>\n",
       "      <td>43</td>\n",
       "      <td>1222</td>\n",
       "      <td>0</td>\n",
       "      <td>1285</td>\n",
       "      <td>52</td>\n",
       "      <td>457</td>\n",
       "      <td>0</td>\n",
       "      <td>0</td>\n",
       "      <td>1</td>\n",
       "      <td>0</td>\n",
       "      <td>0</td>\n",
       "    </tr>\n",
       "    <tr>\n",
       "      <th>4280</th>\n",
       "      <td>3</td>\n",
       "      <td>1</td>\n",
       "      <td>0</td>\n",
       "      <td>1</td>\n",
       "      <td>2</td>\n",
       "      <td>33</td>\n",
       "      <td>0</td>\n",
       "      <td>0</td>\n",
       "      <td>816</td>\n",
       "      <td>335</td>\n",
       "      <td>1143</td>\n",
       "      <td>191</td>\n",
       "      <td>7149</td>\n",
       "      <td>0</td>\n",
       "      <td>0</td>\n",
       "      <td>1</td>\n",
       "      <td>0</td>\n",
       "      <td>0</td>\n",
       "    </tr>\n",
       "    <tr>\n",
       "      <th>4281</th>\n",
       "      <td>4</td>\n",
       "      <td>0</td>\n",
       "      <td>0</td>\n",
       "      <td>3423</td>\n",
       "      <td>2</td>\n",
       "      <td>16</td>\n",
       "      <td>0</td>\n",
       "      <td>277</td>\n",
       "      <td>69</td>\n",
       "      <td>149</td>\n",
       "      <td>472</td>\n",
       "      <td>3</td>\n",
       "      <td>8319</td>\n",
       "      <td>5</td>\n",
       "      <td>1</td>\n",
       "      <td>1</td>\n",
       "      <td>1</td>\n",
       "      <td>0</td>\n",
       "    </tr>\n",
       "  </tbody>\n",
       "</table>\n",
       "</div>"
      ],
      "text/plain": [
       "      PassengerId  HomePlanet  CryoSleep  Cabin  Destination  Age  VIP  \\\n",
       "4277            0           1          0    149            2   39    0   \n",
       "4278            1           0          0   2184            2   24    0   \n",
       "4279            2           1          0      1            2   58    1   \n",
       "4280            3           1          0      1            2   33    0   \n",
       "4281            4           0          0   3423            2   16    0   \n",
       "\n",
       "      RoomService  FoodCourt  ShoppingMall   Spa  VRDeck  Name  a  b  c  \\\n",
       "4277            0          0             0     0       0  5252  1  0  0   \n",
       "4278          109          9            25   458      47  4502  5  0  1   \n",
       "4279           43       1222             0  1285      52   457  0  0  1   \n",
       "4280            0        816           335  1143     191  7149  0  0  1   \n",
       "4281          277         69           149   472       3  8319  5  1  1   \n",
       "\n",
       "      Transported  Cbin  \n",
       "4277            0     0  \n",
       "4278            1     0  \n",
       "4279            0     0  \n",
       "4280            0     0  \n",
       "4281            1     0  "
      ]
     },
     "execution_count": 3,
     "metadata": {},
     "output_type": "execute_result"
    }
   ],
   "source": [
    "df.head()"
   ]
  },
  {
   "cell_type": "code",
   "execution_count": 4,
   "metadata": {
    "colab": {
     "base_uri": "https://localhost:8080/"
    },
    "executionInfo": {
     "elapsed": 1463,
     "status": "ok",
     "timestamp": 1618569576038,
     "user": {
      "displayName": "מריה גרוס",
      "photoUrl": "https://lh3.googleusercontent.com/a-/AOh14GgfPSf2rr-MD7FgsyvUCFTAV3ZmLb9lOsoS6Sd9QQ=s64",
      "userId": "08132352751773895933"
     },
     "user_tz": -180
    },
    "id": "d5l9TzT6x0En",
    "outputId": "fd6a61c7-3f14-4c05-f55d-07c82dc1847e"
   },
   "outputs": [
    {
     "name": "stdout",
     "output_type": "stream",
     "text": [
      "<class 'pandas.core.frame.DataFrame'>\n",
      "Int64Index: 8693 entries, 4277 to 12969\n",
      "Data columns (total 18 columns):\n",
      " #   Column        Non-Null Count  Dtype\n",
      "---  ------        --------------  -----\n",
      " 0   PassengerId   8693 non-null   int64\n",
      " 1   HomePlanet    8693 non-null   int32\n",
      " 2   CryoSleep     8693 non-null   int64\n",
      " 3   Cabin         8693 non-null   int32\n",
      " 4   Destination   8693 non-null   int32\n",
      " 5   Age           8693 non-null   int64\n",
      " 6   VIP           8693 non-null   int64\n",
      " 7   RoomService   8693 non-null   int64\n",
      " 8   FoodCourt     8693 non-null   int64\n",
      " 9   ShoppingMall  8693 non-null   int64\n",
      " 10  Spa           8693 non-null   int64\n",
      " 11  VRDeck        8693 non-null   int64\n",
      " 12  Name          8693 non-null   int32\n",
      " 13  a             8693 non-null   int32\n",
      " 14  b             8693 non-null   int32\n",
      " 15  c             8693 non-null   int32\n",
      " 16  Transported   8693 non-null   int64\n",
      " 17  Cbin          8693 non-null   int32\n",
      "dtypes: int32(8), int64(10)\n",
      "memory usage: 1018.7 KB\n"
     ]
    }
   ],
   "source": [
    "df.info()"
   ]
  },
  {
   "cell_type": "code",
   "execution_count": 5,
   "metadata": {
    "colab": {
     "base_uri": "https://localhost:8080/"
    },
    "executionInfo": {
     "elapsed": 1462,
     "status": "ok",
     "timestamp": 1618569576042,
     "user": {
      "displayName": "מריה גרוס",
      "photoUrl": "https://lh3.googleusercontent.com/a-/AOh14GgfPSf2rr-MD7FgsyvUCFTAV3ZmLb9lOsoS6Sd9QQ=s64",
      "userId": "08132352751773895933"
     },
     "user_tz": -180
    },
    "id": "b3OzPP4KSE6g",
    "outputId": "1059d123-d0bc-4543-fd20-686a0c641ff8"
   },
   "outputs": [
    {
     "data": {
      "text/plain": [
       "PassengerId      708\n",
       "HomePlanet         0\n",
       "CryoSleep          1\n",
       "Cabin           4729\n",
       "Destination        2\n",
       "Age               14\n",
       "VIP                0\n",
       "RoomService        0\n",
       "FoodCourt          0\n",
       "ShoppingMall       0\n",
       "Spa                0\n",
       "VRDeck             0\n",
       "Name            5064\n",
       "a                  6\n",
       "b                124\n",
       "c                  1\n",
       "Transported        1\n",
       "Cbin               1\n",
       "Name: 4985, dtype: int64"
      ]
     },
     "execution_count": 5,
     "metadata": {},
     "output_type": "execute_result"
    }
   ],
   "source": [
    "df.iloc[708]"
   ]
  },
  {
   "cell_type": "code",
   "execution_count": 7,
   "metadata": {
    "colab": {
     "base_uri": "https://localhost:8080/",
     "height": 761
    },
    "executionInfo": {
     "elapsed": 1462,
     "status": "ok",
     "timestamp": 1618569576044,
     "user": {
      "displayName": "מריה גרוס",
      "photoUrl": "https://lh3.googleusercontent.com/a-/AOh14GgfPSf2rr-MD7FgsyvUCFTAV3ZmLb9lOsoS6Sd9QQ=s64",
      "userId": "08132352751773895933"
     },
     "user_tz": -180
    },
    "id": "6KzEm6zTufFg",
    "outputId": "7f0d9876-72bd-470a-b5cc-0ed8fc21c760"
   },
   "outputs": [
    {
     "data": {
      "text/html": [
       "<div>\n",
       "<style scoped>\n",
       "    .dataframe tbody tr th:only-of-type {\n",
       "        vertical-align: middle;\n",
       "    }\n",
       "\n",
       "    .dataframe tbody tr th {\n",
       "        vertical-align: top;\n",
       "    }\n",
       "\n",
       "    .dataframe thead th {\n",
       "        text-align: right;\n",
       "    }\n",
       "</style>\n",
       "<table border=\"1\" class=\"dataframe\">\n",
       "  <thead>\n",
       "    <tr style=\"text-align: right;\">\n",
       "      <th></th>\n",
       "      <th>PassengerId</th>\n",
       "      <th>HomePlanet</th>\n",
       "      <th>CryoSleep</th>\n",
       "      <th>Cabin</th>\n",
       "      <th>Destination</th>\n",
       "      <th>Age</th>\n",
       "      <th>VIP</th>\n",
       "      <th>RoomService</th>\n",
       "      <th>FoodCourt</th>\n",
       "      <th>ShoppingMall</th>\n",
       "      <th>Spa</th>\n",
       "      <th>VRDeck</th>\n",
       "      <th>Name</th>\n",
       "      <th>a</th>\n",
       "      <th>b</th>\n",
       "      <th>c</th>\n",
       "      <th>Transported</th>\n",
       "      <th>Cbin</th>\n",
       "    </tr>\n",
       "  </thead>\n",
       "  <tbody>\n",
       "    <tr>\n",
       "      <th>PassengerId</th>\n",
       "      <td>1.000000</td>\n",
       "      <td>-0.004449</td>\n",
       "      <td>-0.000663</td>\n",
       "      <td>-0.072898</td>\n",
       "      <td>-0.002605</td>\n",
       "      <td>-0.009621</td>\n",
       "      <td>0.014951</td>\n",
       "      <td>-0.004763</td>\n",
       "      <td>0.003928</td>\n",
       "      <td>0.010344</td>\n",
       "      <td>0.006074</td>\n",
       "      <td>0.007868</td>\n",
       "      <td>-0.001820</td>\n",
       "      <td>-0.010406</td>\n",
       "      <td>-0.230916</td>\n",
       "      <td>-0.017117</td>\n",
       "      <td>0.021775</td>\n",
       "      <td>-0.000663</td>\n",
       "    </tr>\n",
       "    <tr>\n",
       "      <th>HomePlanet</th>\n",
       "      <td>-0.004449</td>\n",
       "      <td>1.000000</td>\n",
       "      <td>0.068726</td>\n",
       "      <td>-0.425518</td>\n",
       "      <td>0.042618</td>\n",
       "      <td>0.123409</td>\n",
       "      <td>0.044255</td>\n",
       "      <td>0.220152</td>\n",
       "      <td>0.031021</td>\n",
       "      <td>0.098814</td>\n",
       "      <td>0.017481</td>\n",
       "      <td>-0.011144</td>\n",
       "      <td>0.027138</td>\n",
       "      <td>-0.347563</td>\n",
       "      <td>0.007214</td>\n",
       "      <td>0.006099</td>\n",
       "      <td>0.107755</td>\n",
       "      <td>0.068726</td>\n",
       "    </tr>\n",
       "    <tr>\n",
       "      <th>CryoSleep</th>\n",
       "      <td>-0.000663</td>\n",
       "      <td>0.068726</td>\n",
       "      <td>1.000000</td>\n",
       "      <td>0.100614</td>\n",
       "      <td>-0.085571</td>\n",
       "      <td>-0.069170</td>\n",
       "      <td>-0.023407</td>\n",
       "      <td>-0.303519</td>\n",
       "      <td>-0.303330</td>\n",
       "      <td>-0.287537</td>\n",
       "      <td>-0.301797</td>\n",
       "      <td>-0.301388</td>\n",
       "      <td>-0.001247</td>\n",
       "      <td>0.021737</td>\n",
       "      <td>0.003314</td>\n",
       "      <td>0.020462</td>\n",
       "      <td>0.404716</td>\n",
       "      <td>1.000000</td>\n",
       "    </tr>\n",
       "    <tr>\n",
       "      <th>Cabin</th>\n",
       "      <td>-0.072898</td>\n",
       "      <td>-0.425518</td>\n",
       "      <td>0.100614</td>\n",
       "      <td>1.000000</td>\n",
       "      <td>0.113267</td>\n",
       "      <td>-0.237408</td>\n",
       "      <td>-0.053248</td>\n",
       "      <td>-0.071020</td>\n",
       "      <td>-0.313882</td>\n",
       "      <td>-0.050569</td>\n",
       "      <td>-0.210863</td>\n",
       "      <td>-0.236105</td>\n",
       "      <td>0.013837</td>\n",
       "      <td>0.912338</td>\n",
       "      <td>0.261996</td>\n",
       "      <td>0.084562</td>\n",
       "      <td>-0.052508</td>\n",
       "      <td>0.100614</td>\n",
       "    </tr>\n",
       "    <tr>\n",
       "      <th>Destination</th>\n",
       "      <td>-0.002605</td>\n",
       "      <td>0.042618</td>\n",
       "      <td>-0.085571</td>\n",
       "      <td>0.113267</td>\n",
       "      <td>1.000000</td>\n",
       "      <td>-0.004440</td>\n",
       "      <td>-0.024905</td>\n",
       "      <td>0.076886</td>\n",
       "      <td>-0.082343</td>\n",
       "      <td>0.050396</td>\n",
       "      <td>-0.031445</td>\n",
       "      <td>-0.059033</td>\n",
       "      <td>0.001358</td>\n",
       "      <td>0.166499</td>\n",
       "      <td>-0.018245</td>\n",
       "      <td>-0.015758</td>\n",
       "      <td>-0.104817</td>\n",
       "      <td>-0.085571</td>\n",
       "    </tr>\n",
       "    <tr>\n",
       "      <th>Age</th>\n",
       "      <td>-0.009621</td>\n",
       "      <td>0.123409</td>\n",
       "      <td>-0.069170</td>\n",
       "      <td>-0.237408</td>\n",
       "      <td>-0.004440</td>\n",
       "      <td>1.000000</td>\n",
       "      <td>0.034114</td>\n",
       "      <td>0.090856</td>\n",
       "      <td>0.182239</td>\n",
       "      <td>0.065247</td>\n",
       "      <td>0.151813</td>\n",
       "      <td>0.135085</td>\n",
       "      <td>-0.015796</td>\n",
       "      <td>-0.230049</td>\n",
       "      <td>-0.000449</td>\n",
       "      <td>0.012225</td>\n",
       "      <td>-0.073685</td>\n",
       "      <td>-0.069170</td>\n",
       "    </tr>\n",
       "    <tr>\n",
       "      <th>VIP</th>\n",
       "      <td>0.014951</td>\n",
       "      <td>0.044255</td>\n",
       "      <td>-0.023407</td>\n",
       "      <td>-0.053248</td>\n",
       "      <td>-0.024905</td>\n",
       "      <td>0.034114</td>\n",
       "      <td>1.000000</td>\n",
       "      <td>0.031860</td>\n",
       "      <td>0.056535</td>\n",
       "      <td>-0.003855</td>\n",
       "      <td>0.036589</td>\n",
       "      <td>0.048129</td>\n",
       "      <td>-0.010661</td>\n",
       "      <td>-0.060580</td>\n",
       "      <td>0.001273</td>\n",
       "      <td>0.005636</td>\n",
       "      <td>-0.014260</td>\n",
       "      <td>-0.023407</td>\n",
       "    </tr>\n",
       "    <tr>\n",
       "      <th>RoomService</th>\n",
       "      <td>-0.004763</td>\n",
       "      <td>0.220152</td>\n",
       "      <td>-0.303519</td>\n",
       "      <td>-0.071020</td>\n",
       "      <td>0.076886</td>\n",
       "      <td>0.090856</td>\n",
       "      <td>0.031860</td>\n",
       "      <td>1.000000</td>\n",
       "      <td>-0.037929</td>\n",
       "      <td>0.125866</td>\n",
       "      <td>-0.015270</td>\n",
       "      <td>-0.032185</td>\n",
       "      <td>0.022988</td>\n",
       "      <td>0.011879</td>\n",
       "      <td>0.003286</td>\n",
       "      <td>-0.017963</td>\n",
       "      <td>-0.312680</td>\n",
       "      <td>-0.303519</td>\n",
       "    </tr>\n",
       "    <tr>\n",
       "      <th>FoodCourt</th>\n",
       "      <td>0.003928</td>\n",
       "      <td>0.031021</td>\n",
       "      <td>-0.303330</td>\n",
       "      <td>-0.313882</td>\n",
       "      <td>-0.082343</td>\n",
       "      <td>0.182239</td>\n",
       "      <td>0.056535</td>\n",
       "      <td>-0.037929</td>\n",
       "      <td>1.000000</td>\n",
       "      <td>-0.021545</td>\n",
       "      <td>0.314349</td>\n",
       "      <td>0.341977</td>\n",
       "      <td>-0.028818</td>\n",
       "      <td>-0.351295</td>\n",
       "      <td>0.007235</td>\n",
       "      <td>0.017135</td>\n",
       "      <td>-0.019618</td>\n",
       "      <td>-0.303330</td>\n",
       "    </tr>\n",
       "    <tr>\n",
       "      <th>ShoppingMall</th>\n",
       "      <td>0.010344</td>\n",
       "      <td>0.098814</td>\n",
       "      <td>-0.287537</td>\n",
       "      <td>-0.050569</td>\n",
       "      <td>0.050396</td>\n",
       "      <td>0.065247</td>\n",
       "      <td>-0.003855</td>\n",
       "      <td>0.125866</td>\n",
       "      <td>-0.021545</td>\n",
       "      <td>1.000000</td>\n",
       "      <td>-0.008234</td>\n",
       "      <td>-0.028611</td>\n",
       "      <td>-0.002954</td>\n",
       "      <td>0.018110</td>\n",
       "      <td>-0.011425</td>\n",
       "      <td>-0.021472</td>\n",
       "      <td>-0.047513</td>\n",
       "      <td>-0.287537</td>\n",
       "    </tr>\n",
       "    <tr>\n",
       "      <th>Spa</th>\n",
       "      <td>0.006074</td>\n",
       "      <td>0.017481</td>\n",
       "      <td>-0.301797</td>\n",
       "      <td>-0.210863</td>\n",
       "      <td>-0.031445</td>\n",
       "      <td>0.151813</td>\n",
       "      <td>0.036589</td>\n",
       "      <td>-0.015270</td>\n",
       "      <td>0.314349</td>\n",
       "      <td>-0.008234</td>\n",
       "      <td>1.000000</td>\n",
       "      <td>0.227347</td>\n",
       "      <td>-0.023841</td>\n",
       "      <td>-0.220381</td>\n",
       "      <td>0.017106</td>\n",
       "      <td>0.008747</td>\n",
       "      <td>-0.315705</td>\n",
       "      <td>-0.301797</td>\n",
       "    </tr>\n",
       "    <tr>\n",
       "      <th>VRDeck</th>\n",
       "      <td>0.007868</td>\n",
       "      <td>-0.011144</td>\n",
       "      <td>-0.301388</td>\n",
       "      <td>-0.236105</td>\n",
       "      <td>-0.059033</td>\n",
       "      <td>0.135085</td>\n",
       "      <td>0.048129</td>\n",
       "      <td>-0.032185</td>\n",
       "      <td>0.341977</td>\n",
       "      <td>-0.028611</td>\n",
       "      <td>0.227347</td>\n",
       "      <td>1.000000</td>\n",
       "      <td>-0.017789</td>\n",
       "      <td>-0.254365</td>\n",
       "      <td>0.010099</td>\n",
       "      <td>-0.012794</td>\n",
       "      <td>-0.292744</td>\n",
       "      <td>-0.301388</td>\n",
       "    </tr>\n",
       "    <tr>\n",
       "      <th>Name</th>\n",
       "      <td>-0.001820</td>\n",
       "      <td>0.027138</td>\n",
       "      <td>-0.001247</td>\n",
       "      <td>0.013837</td>\n",
       "      <td>0.001358</td>\n",
       "      <td>-0.015796</td>\n",
       "      <td>-0.010661</td>\n",
       "      <td>0.022988</td>\n",
       "      <td>-0.028818</td>\n",
       "      <td>-0.002954</td>\n",
       "      <td>-0.023841</td>\n",
       "      <td>-0.017789</td>\n",
       "      <td>1.000000</td>\n",
       "      <td>0.031228</td>\n",
       "      <td>-0.005656</td>\n",
       "      <td>0.003647</td>\n",
       "      <td>-0.008341</td>\n",
       "      <td>-0.001247</td>\n",
       "    </tr>\n",
       "    <tr>\n",
       "      <th>a</th>\n",
       "      <td>-0.010406</td>\n",
       "      <td>-0.347563</td>\n",
       "      <td>0.021737</td>\n",
       "      <td>0.912338</td>\n",
       "      <td>0.166499</td>\n",
       "      <td>-0.230049</td>\n",
       "      <td>-0.060580</td>\n",
       "      <td>0.011879</td>\n",
       "      <td>-0.351295</td>\n",
       "      <td>0.018110</td>\n",
       "      <td>-0.220381</td>\n",
       "      <td>-0.254365</td>\n",
       "      <td>0.031228</td>\n",
       "      <td>1.000000</td>\n",
       "      <td>0.044371</td>\n",
       "      <td>0.093644</td>\n",
       "      <td>-0.109925</td>\n",
       "      <td>0.021737</td>\n",
       "    </tr>\n",
       "    <tr>\n",
       "      <th>b</th>\n",
       "      <td>-0.230916</td>\n",
       "      <td>0.007214</td>\n",
       "      <td>0.003314</td>\n",
       "      <td>0.261996</td>\n",
       "      <td>-0.018245</td>\n",
       "      <td>-0.000449</td>\n",
       "      <td>0.001273</td>\n",
       "      <td>0.003286</td>\n",
       "      <td>0.007235</td>\n",
       "      <td>-0.011425</td>\n",
       "      <td>0.017106</td>\n",
       "      <td>0.010099</td>\n",
       "      <td>-0.005656</td>\n",
       "      <td>0.044371</td>\n",
       "      <td>1.000000</td>\n",
       "      <td>0.113086</td>\n",
       "      <td>0.019015</td>\n",
       "      <td>0.003314</td>\n",
       "    </tr>\n",
       "    <tr>\n",
       "      <th>c</th>\n",
       "      <td>-0.017117</td>\n",
       "      <td>0.006099</td>\n",
       "      <td>0.020462</td>\n",
       "      <td>0.084562</td>\n",
       "      <td>-0.015758</td>\n",
       "      <td>0.012225</td>\n",
       "      <td>0.005636</td>\n",
       "      <td>-0.017963</td>\n",
       "      <td>0.017135</td>\n",
       "      <td>-0.021472</td>\n",
       "      <td>0.008747</td>\n",
       "      <td>-0.012794</td>\n",
       "      <td>0.003647</td>\n",
       "      <td>0.093644</td>\n",
       "      <td>0.113086</td>\n",
       "      <td>1.000000</td>\n",
       "      <td>0.093319</td>\n",
       "      <td>0.020462</td>\n",
       "    </tr>\n",
       "    <tr>\n",
       "      <th>Transported</th>\n",
       "      <td>0.021775</td>\n",
       "      <td>0.107755</td>\n",
       "      <td>0.404716</td>\n",
       "      <td>-0.052508</td>\n",
       "      <td>-0.104817</td>\n",
       "      <td>-0.073685</td>\n",
       "      <td>-0.014260</td>\n",
       "      <td>-0.312680</td>\n",
       "      <td>-0.019618</td>\n",
       "      <td>-0.047513</td>\n",
       "      <td>-0.315705</td>\n",
       "      <td>-0.292744</td>\n",
       "      <td>-0.008341</td>\n",
       "      <td>-0.109925</td>\n",
       "      <td>0.019015</td>\n",
       "      <td>0.093319</td>\n",
       "      <td>1.000000</td>\n",
       "      <td>0.404716</td>\n",
       "    </tr>\n",
       "    <tr>\n",
       "      <th>Cbin</th>\n",
       "      <td>-0.000663</td>\n",
       "      <td>0.068726</td>\n",
       "      <td>1.000000</td>\n",
       "      <td>0.100614</td>\n",
       "      <td>-0.085571</td>\n",
       "      <td>-0.069170</td>\n",
       "      <td>-0.023407</td>\n",
       "      <td>-0.303519</td>\n",
       "      <td>-0.303330</td>\n",
       "      <td>-0.287537</td>\n",
       "      <td>-0.301797</td>\n",
       "      <td>-0.301388</td>\n",
       "      <td>-0.001247</td>\n",
       "      <td>0.021737</td>\n",
       "      <td>0.003314</td>\n",
       "      <td>0.020462</td>\n",
       "      <td>0.404716</td>\n",
       "      <td>1.000000</td>\n",
       "    </tr>\n",
       "  </tbody>\n",
       "</table>\n",
       "</div>"
      ],
      "text/plain": [
       "              PassengerId  HomePlanet  CryoSleep     Cabin  Destination  \\\n",
       "PassengerId      1.000000   -0.004449  -0.000663 -0.072898    -0.002605   \n",
       "HomePlanet      -0.004449    1.000000   0.068726 -0.425518     0.042618   \n",
       "CryoSleep       -0.000663    0.068726   1.000000  0.100614    -0.085571   \n",
       "Cabin           -0.072898   -0.425518   0.100614  1.000000     0.113267   \n",
       "Destination     -0.002605    0.042618  -0.085571  0.113267     1.000000   \n",
       "Age             -0.009621    0.123409  -0.069170 -0.237408    -0.004440   \n",
       "VIP              0.014951    0.044255  -0.023407 -0.053248    -0.024905   \n",
       "RoomService     -0.004763    0.220152  -0.303519 -0.071020     0.076886   \n",
       "FoodCourt        0.003928    0.031021  -0.303330 -0.313882    -0.082343   \n",
       "ShoppingMall     0.010344    0.098814  -0.287537 -0.050569     0.050396   \n",
       "Spa              0.006074    0.017481  -0.301797 -0.210863    -0.031445   \n",
       "VRDeck           0.007868   -0.011144  -0.301388 -0.236105    -0.059033   \n",
       "Name            -0.001820    0.027138  -0.001247  0.013837     0.001358   \n",
       "a               -0.010406   -0.347563   0.021737  0.912338     0.166499   \n",
       "b               -0.230916    0.007214   0.003314  0.261996    -0.018245   \n",
       "c               -0.017117    0.006099   0.020462  0.084562    -0.015758   \n",
       "Transported      0.021775    0.107755   0.404716 -0.052508    -0.104817   \n",
       "Cbin            -0.000663    0.068726   1.000000  0.100614    -0.085571   \n",
       "\n",
       "                   Age       VIP  RoomService  FoodCourt  ShoppingMall  \\\n",
       "PassengerId  -0.009621  0.014951    -0.004763   0.003928      0.010344   \n",
       "HomePlanet    0.123409  0.044255     0.220152   0.031021      0.098814   \n",
       "CryoSleep    -0.069170 -0.023407    -0.303519  -0.303330     -0.287537   \n",
       "Cabin        -0.237408 -0.053248    -0.071020  -0.313882     -0.050569   \n",
       "Destination  -0.004440 -0.024905     0.076886  -0.082343      0.050396   \n",
       "Age           1.000000  0.034114     0.090856   0.182239      0.065247   \n",
       "VIP           0.034114  1.000000     0.031860   0.056535     -0.003855   \n",
       "RoomService   0.090856  0.031860     1.000000  -0.037929      0.125866   \n",
       "FoodCourt     0.182239  0.056535    -0.037929   1.000000     -0.021545   \n",
       "ShoppingMall  0.065247 -0.003855     0.125866  -0.021545      1.000000   \n",
       "Spa           0.151813  0.036589    -0.015270   0.314349     -0.008234   \n",
       "VRDeck        0.135085  0.048129    -0.032185   0.341977     -0.028611   \n",
       "Name         -0.015796 -0.010661     0.022988  -0.028818     -0.002954   \n",
       "a            -0.230049 -0.060580     0.011879  -0.351295      0.018110   \n",
       "b            -0.000449  0.001273     0.003286   0.007235     -0.011425   \n",
       "c             0.012225  0.005636    -0.017963   0.017135     -0.021472   \n",
       "Transported  -0.073685 -0.014260    -0.312680  -0.019618     -0.047513   \n",
       "Cbin         -0.069170 -0.023407    -0.303519  -0.303330     -0.287537   \n",
       "\n",
       "                   Spa    VRDeck      Name         a         b         c  \\\n",
       "PassengerId   0.006074  0.007868 -0.001820 -0.010406 -0.230916 -0.017117   \n",
       "HomePlanet    0.017481 -0.011144  0.027138 -0.347563  0.007214  0.006099   \n",
       "CryoSleep    -0.301797 -0.301388 -0.001247  0.021737  0.003314  0.020462   \n",
       "Cabin        -0.210863 -0.236105  0.013837  0.912338  0.261996  0.084562   \n",
       "Destination  -0.031445 -0.059033  0.001358  0.166499 -0.018245 -0.015758   \n",
       "Age           0.151813  0.135085 -0.015796 -0.230049 -0.000449  0.012225   \n",
       "VIP           0.036589  0.048129 -0.010661 -0.060580  0.001273  0.005636   \n",
       "RoomService  -0.015270 -0.032185  0.022988  0.011879  0.003286 -0.017963   \n",
       "FoodCourt     0.314349  0.341977 -0.028818 -0.351295  0.007235  0.017135   \n",
       "ShoppingMall -0.008234 -0.028611 -0.002954  0.018110 -0.011425 -0.021472   \n",
       "Spa           1.000000  0.227347 -0.023841 -0.220381  0.017106  0.008747   \n",
       "VRDeck        0.227347  1.000000 -0.017789 -0.254365  0.010099 -0.012794   \n",
       "Name         -0.023841 -0.017789  1.000000  0.031228 -0.005656  0.003647   \n",
       "a            -0.220381 -0.254365  0.031228  1.000000  0.044371  0.093644   \n",
       "b             0.017106  0.010099 -0.005656  0.044371  1.000000  0.113086   \n",
       "c             0.008747 -0.012794  0.003647  0.093644  0.113086  1.000000   \n",
       "Transported  -0.315705 -0.292744 -0.008341 -0.109925  0.019015  0.093319   \n",
       "Cbin         -0.301797 -0.301388 -0.001247  0.021737  0.003314  0.020462   \n",
       "\n",
       "              Transported      Cbin  \n",
       "PassengerId      0.021775 -0.000663  \n",
       "HomePlanet       0.107755  0.068726  \n",
       "CryoSleep        0.404716  1.000000  \n",
       "Cabin           -0.052508  0.100614  \n",
       "Destination     -0.104817 -0.085571  \n",
       "Age             -0.073685 -0.069170  \n",
       "VIP             -0.014260 -0.023407  \n",
       "RoomService     -0.312680 -0.303519  \n",
       "FoodCourt       -0.019618 -0.303330  \n",
       "ShoppingMall    -0.047513 -0.287537  \n",
       "Spa             -0.315705 -0.301797  \n",
       "VRDeck          -0.292744 -0.301388  \n",
       "Name            -0.008341 -0.001247  \n",
       "a               -0.109925  0.021737  \n",
       "b                0.019015  0.003314  \n",
       "c                0.093319  0.020462  \n",
       "Transported      1.000000  0.404716  \n",
       "Cbin             0.404716  1.000000  "
      ]
     },
     "execution_count": 7,
     "metadata": {},
     "output_type": "execute_result"
    }
   ],
   "source": [
    "df.corr()"
   ]
  },
  {
   "cell_type": "code",
   "execution_count": 8,
   "metadata": {},
   "outputs": [
    {
     "data": {
      "text/plain": [
       "<AxesSubplot:>"
      ]
     },
     "execution_count": 8,
     "metadata": {},
     "output_type": "execute_result"
    },
    {
     "data": {
      "image/png": "[encoded data removed]",
      "text/plain": [
       "<Figure size 1000x1000 with 2 Axes>"
      ]
     },
     "metadata": {},
     "output_type": "display_data"
    }
   ],
   "source": [
    "plt.figure(figsize=(10,10))\n",
    "sns.heatmap(df.corr())\n"
   ]
  },
  {
   "cell_type": "code",
   "execution_count": 14,
   "metadata": {
    "executionInfo": {
     "elapsed": 1455,
     "status": "ok",
     "timestamp": 1618569576048,
     "user": {
      "displayName": "מריה גרוס",
      "photoUrl": "https://lh3.googleusercontent.com/a-/AOh14GgfPSf2rr-MD7FgsyvUCFTAV3ZmLb9lOsoS6Sd9QQ=s64",
      "userId": "08132352751773895933"
     },
     "user_tz": -180
    },
    "id": "AxxJbqh-POtk"
   },
   "outputs": [],
   "source": [
    "X = df.iloc[:,:-1]\n",
    "y = df.iloc[:,-1]"
   ]
  },
  {
   "cell_type": "code",
   "execution_count": 15,
   "metadata": {
    "executionInfo": {
     "elapsed": 1453,
     "status": "ok",
     "timestamp": 1618569576049,
     "user": {
      "displayName": "מריה גרוס",
      "photoUrl": "https://lh3.googleusercontent.com/a-/AOh14GgfPSf2rr-MD7FgsyvUCFTAV3ZmLb9lOsoS6Sd9QQ=s64",
      "userId": "08132352751773895933"
     },
     "user_tz": -180
    },
    "id": "A4w82CK9PjjF"
   },
   "outputs": [],
   "source": [
    "from sklearn.model_selection import train_test_split\n"
   ]
  },
  {
   "cell_type": "code",
   "execution_count": 16,
   "metadata": {
    "executionInfo": {
     "elapsed": 1451,
     "status": "ok",
     "timestamp": 1618569576050,
     "user": {
      "displayName": "מריה גרוס",
      "photoUrl": "https://lh3.googleusercontent.com/a-/AOh14GgfPSf2rr-MD7FgsyvUCFTAV3ZmLb9lOsoS6Sd9QQ=s64",
      "userId": "08132352751773895933"
     },
     "user_tz": -180
    },
    "id": "CNDQtadcP6jG"
   },
   "outputs": [],
   "source": [
    "X_train,X_test, y_train,y_test = train_test_split(X,y,test_size = 0.3, random_state = 47)"
   ]
  },
  {
   "cell_type": "code",
   "execution_count": 17,
   "metadata": {
    "colab": {
     "base_uri": "https://localhost:8080/"
    },
    "executionInfo": {
     "elapsed": 1448,
     "status": "ok",
     "timestamp": 1618569576052,
     "user": {
      "displayName": "מריה גרוס",
      "photoUrl": "https://lh3.googleusercontent.com/a-/AOh14GgfPSf2rr-MD7FgsyvUCFTAV3ZmLb9lOsoS6Sd9QQ=s64",
      "userId": "08132352751773895933"
     },
     "user_tz": -180
    },
    "id": "garO_NNY6GNv",
    "outputId": "99e1aab5-bebb-4ce3-9186-a27faba06346"
   },
   "outputs": [
    {
     "data": {
      "text/plain": [
       "0    3819\n",
       "1    2111\n",
       "2     155\n",
       "Name: Cbin, dtype: int64"
      ]
     },
     "execution_count": 17,
     "metadata": {},
     "output_type": "execute_result"
    }
   ],
   "source": [
    "y_train.value_counts()"
   ]
  },
  {
   "cell_type": "code",
   "execution_count": 18,
   "metadata": {},
   "outputs": [],
   "source": [
    "###################################################\n",
    "# Scale the features to standard scaler, so we could use them easily with as much algo as possible"
   ]
  },
  {
   "cell_type": "code",
   "execution_count": 19,
   "metadata": {},
   "outputs": [],
   "source": [
    "from sklearn.preprocessing import StandardScaler"
   ]
  },
  {
   "cell_type": "code",
   "execution_count": 20,
   "metadata": {},
   "outputs": [],
   "source": [
    "sc = StandardScaler()"
   ]
  },
  {
   "cell_type": "code",
   "execution_count": 21,
   "metadata": {},
   "outputs": [
    {
     "data": {
      "text/html": [
       "<div>\n",
       "<style scoped>\n",
       "    .dataframe tbody tr th:only-of-type {\n",
       "        vertical-align: middle;\n",
       "    }\n",
       "\n",
       "    .dataframe tbody tr th {\n",
       "        vertical-align: top;\n",
       "    }\n",
       "\n",
       "    .dataframe thead th {\n",
       "        text-align: right;\n",
       "    }\n",
       "</style>\n",
       "<table border=\"1\" class=\"dataframe\">\n",
       "  <thead>\n",
       "    <tr style=\"text-align: right;\">\n",
       "      <th></th>\n",
       "      <th>PassengerId</th>\n",
       "      <th>HomePlanet</th>\n",
       "      <th>CryoSleep</th>\n",
       "      <th>Cabin</th>\n",
       "      <th>Destination</th>\n",
       "      <th>Age</th>\n",
       "      <th>VIP</th>\n",
       "      <th>RoomService</th>\n",
       "      <th>FoodCourt</th>\n",
       "      <th>ShoppingMall</th>\n",
       "      <th>Spa</th>\n",
       "      <th>VRDeck</th>\n",
       "      <th>Name</th>\n",
       "      <th>a</th>\n",
       "      <th>b</th>\n",
       "      <th>c</th>\n",
       "      <th>Transported</th>\n",
       "    </tr>\n",
       "  </thead>\n",
       "  <tbody>\n",
       "    <tr>\n",
       "      <th>11534</th>\n",
       "      <td>1.142167</td>\n",
       "      <td>-0.831076</td>\n",
       "      <td>-0.738161</td>\n",
       "      <td>0.848590</td>\n",
       "      <td>-0.617961</td>\n",
       "      <td>0.229036</td>\n",
       "      <td>-0.207931</td>\n",
       "      <td>-0.465055</td>\n",
       "      <td>0.674707</td>\n",
       "      <td>-0.441559</td>\n",
       "      <td>-0.467804</td>\n",
       "      <td>0.242344</td>\n",
       "      <td>0.911445</td>\n",
       "      <td>0.878257</td>\n",
       "      <td>-1.321696</td>\n",
       "      <td>0.843584</td>\n",
       "      <td>-1.006099</td>\n",
       "    </tr>\n",
       "    <tr>\n",
       "      <th>10282</th>\n",
       "      <td>0.645055</td>\n",
       "      <td>-0.831076</td>\n",
       "      <td>-0.738161</td>\n",
       "      <td>-0.355288</td>\n",
       "      <td>0.576162</td>\n",
       "      <td>-0.258754</td>\n",
       "      <td>-0.207931</td>\n",
       "      <td>-0.097207</td>\n",
       "      <td>-0.471911</td>\n",
       "      <td>-0.441559</td>\n",
       "      <td>-0.467804</td>\n",
       "      <td>1.992241</td>\n",
       "      <td>-1.280080</td>\n",
       "      <td>0.332207</td>\n",
       "      <td>-1.403185</td>\n",
       "      <td>0.843584</td>\n",
       "      <td>-1.006099</td>\n",
       "    </tr>\n",
       "  </tbody>\n",
       "</table>\n",
       "</div>"
      ],
      "text/plain": [
       "       PassengerId  HomePlanet  CryoSleep     Cabin  Destination       Age  \\\n",
       "11534     1.142167   -0.831076  -0.738161  0.848590    -0.617961  0.229036   \n",
       "10282     0.645055   -0.831076  -0.738161 -0.355288     0.576162 -0.258754   \n",
       "\n",
       "            VIP  RoomService  FoodCourt  ShoppingMall       Spa    VRDeck  \\\n",
       "11534 -0.207931    -0.465055   0.674707     -0.441559 -0.467804  0.242344   \n",
       "10282 -0.207931    -0.097207  -0.471911     -0.441559 -0.467804  1.992241   \n",
       "\n",
       "           Name         a         b         c  Transported  \n",
       "11534  0.911445  0.878257 -1.321696  0.843584    -1.006099  \n",
       "10282 -1.280080  0.332207 -1.403185  0.843584    -1.006099  "
      ]
     },
     "execution_count": 21,
     "metadata": {},
     "output_type": "execute_result"
    }
   ],
   "source": [
    "X_train_transformed = pd.DataFrame(sc.fit_transform(X_train), columns=X_train.columns, index = X_train.index)\n",
    "X_train_transformed.head(2)"
   ]
  },
  {
   "cell_type": "code",
   "execution_count": 22,
   "metadata": {},
   "outputs": [
    {
     "data": {
      "text/html": [
       "<div>\n",
       "<style scoped>\n",
       "    .dataframe tbody tr th:only-of-type {\n",
       "        vertical-align: middle;\n",
       "    }\n",
       "\n",
       "    .dataframe tbody tr th {\n",
       "        vertical-align: top;\n",
       "    }\n",
       "\n",
       "    .dataframe thead th {\n",
       "        text-align: right;\n",
       "    }\n",
       "</style>\n",
       "<table border=\"1\" class=\"dataframe\">\n",
       "  <thead>\n",
       "    <tr style=\"text-align: right;\">\n",
       "      <th></th>\n",
       "      <th>PassengerId</th>\n",
       "      <th>HomePlanet</th>\n",
       "      <th>CryoSleep</th>\n",
       "      <th>Cabin</th>\n",
       "      <th>Destination</th>\n",
       "      <th>Age</th>\n",
       "      <th>VIP</th>\n",
       "      <th>RoomService</th>\n",
       "      <th>FoodCourt</th>\n",
       "      <th>ShoppingMall</th>\n",
       "      <th>Spa</th>\n",
       "      <th>VRDeck</th>\n",
       "      <th>Name</th>\n",
       "      <th>a</th>\n",
       "      <th>b</th>\n",
       "      <th>c</th>\n",
       "      <th>Transported</th>\n",
       "    </tr>\n",
       "  </thead>\n",
       "  <tbody>\n",
       "    <tr>\n",
       "      <th>10773</th>\n",
       "      <td>0.840009</td>\n",
       "      <td>0.322196</td>\n",
       "      <td>1.117151</td>\n",
       "      <td>-1.428169</td>\n",
       "      <td>0.576162</td>\n",
       "      <td>-1.025281</td>\n",
       "      <td>-0.207931</td>\n",
       "      <td>-0.465055</td>\n",
       "      <td>-0.471911</td>\n",
       "      <td>-0.441559</td>\n",
       "      <td>-0.467804</td>\n",
       "      <td>-0.454933</td>\n",
       "      <td>0.076006</td>\n",
       "      <td>-1.851994</td>\n",
       "      <td>0.007349</td>\n",
       "      <td>-1.002230</td>\n",
       "      <td>0.993938</td>\n",
       "    </tr>\n",
       "    <tr>\n",
       "      <th>6265</th>\n",
       "      <td>-0.949914</td>\n",
       "      <td>-0.831076</td>\n",
       "      <td>-0.738161</td>\n",
       "      <td>0.248892</td>\n",
       "      <td>0.576162</td>\n",
       "      <td>-1.373702</td>\n",
       "      <td>-0.207931</td>\n",
       "      <td>1.561578</td>\n",
       "      <td>-0.471911</td>\n",
       "      <td>-0.441559</td>\n",
       "      <td>-0.467804</td>\n",
       "      <td>-0.454933</td>\n",
       "      <td>0.613474</td>\n",
       "      <td>0.332207</td>\n",
       "      <td>0.408973</td>\n",
       "      <td>0.843584</td>\n",
       "      <td>-1.006099</td>\n",
       "    </tr>\n",
       "  </tbody>\n",
       "</table>\n",
       "</div>"
      ],
      "text/plain": [
       "       PassengerId  HomePlanet  CryoSleep     Cabin  Destination       Age  \\\n",
       "10773     0.840009    0.322196   1.117151 -1.428169     0.576162 -1.025281   \n",
       "6265     -0.949914   -0.831076  -0.738161  0.248892     0.576162 -1.373702   \n",
       "\n",
       "            VIP  RoomService  FoodCourt  ShoppingMall       Spa    VRDeck  \\\n",
       "10773 -0.207931    -0.465055  -0.471911     -0.441559 -0.467804 -0.454933   \n",
       "6265  -0.207931     1.561578  -0.471911     -0.441559 -0.467804 -0.454933   \n",
       "\n",
       "           Name         a         b         c  Transported  \n",
       "10773  0.076006 -1.851994  0.007349 -1.002230     0.993938  \n",
       "6265   0.613474  0.332207  0.408973  0.843584    -1.006099  "
      ]
     },
     "execution_count": 22,
     "metadata": {},
     "output_type": "execute_result"
    }
   ],
   "source": [
    "X_test_transformed = pd.DataFrame(sc.transform(X_test), columns=X_test.columns, index = X_test.index)\n",
    "X_test_transformed.head(2)"
   ]
  },
  {
   "cell_type": "code",
   "execution_count": 23,
   "metadata": {},
   "outputs": [],
   "source": [
    "#############################################################"
   ]
  },
  {
   "cell_type": "code",
   "execution_count": 24,
   "metadata": {
    "executionInfo": {
     "elapsed": 1847,
     "status": "ok",
     "timestamp": 1618569576468,
     "user": {
      "displayName": "מריה גרוס",
      "photoUrl": "https://lh3.googleusercontent.com/a-/AOh14GgfPSf2rr-MD7FgsyvUCFTAV3ZmLb9lOsoS6Sd9QQ=s64",
      "userId": "08132352751773895933"
     },
     "user_tz": -180
    },
    "id": "Ry_Ymjw1xzi-"
   },
   "outputs": [],
   "source": [
    "# TRY AT HOME DIFFERENT ALGOS..."
   ]
  },
  {
   "cell_type": "code",
   "execution_count": 25,
   "metadata": {
    "id": "FS4Es2s2NYAb"
   },
   "outputs": [],
   "source": [
    "#  RANDOM FOREST TRY, without grid search"
   ]
  },
  {
   "cell_type": "code",
   "execution_count": 26,
   "metadata": {
    "executionInfo": {
     "elapsed": 721,
     "status": "ok",
     "timestamp": 1618577146893,
     "user": {
      "displayName": "מריה גרוס",
      "photoUrl": "https://lh3.googleusercontent.com/a-/AOh14GgfPSf2rr-MD7FgsyvUCFTAV3ZmLb9lOsoS6Sd9QQ=s64",
      "userId": "08132352751773895933"
     },
     "user_tz": -180
    },
    "id": "jQ_HVCE1qhEY"
   },
   "outputs": [],
   "source": [
    "import sklearn.ensemble as se"
   ]
  },
  {
   "cell_type": "code",
   "execution_count": 27,
   "metadata": {
    "executionInfo": {
     "elapsed": 482,
     "status": "ok",
     "timestamp": 1618577147744,
     "user": {
      "displayName": "מריה גרוס",
      "photoUrl": "https://lh3.googleusercontent.com/a-/AOh14GgfPSf2rr-MD7FgsyvUCFTAV3ZmLb9lOsoS6Sd9QQ=s64",
      "userId": "08132352751773895933"
     },
     "user_tz": -180
    },
    "id": "6zF62PGlquIX"
   },
   "outputs": [],
   "source": [
    "cl_random_forest_before_grid = se.RandomForestClassifier()"
   ]
  },
  {
   "cell_type": "code",
   "execution_count": 28,
   "metadata": {
    "colab": {
     "base_uri": "https://localhost:8080/"
    },
    "executionInfo": {
     "elapsed": 1014,
     "status": "ok",
     "timestamp": 1618577149318,
     "user": {
      "displayName": "מריה גרוס",
      "photoUrl": "https://lh3.googleusercontent.com/a-/AOh14GgfPSf2rr-MD7FgsyvUCFTAV3ZmLb9lOsoS6Sd9QQ=s64",
      "userId": "08132352751773895933"
     },
     "user_tz": -180
    },
    "id": "873F-2hkMIyi",
    "outputId": "a58a785a-2dbc-4e3a-f30d-239d563c31c3"
   },
   "outputs": [
    {
     "data": {
      "text/plain": [
       "RandomForestClassifier()"
      ]
     },
     "execution_count": 28,
     "metadata": {},
     "output_type": "execute_result"
    }
   ],
   "source": [
    "cl_random_forest_before_grid.fit(X_train_transformed ,y_train)\n"
   ]
  },
  {
   "cell_type": "code",
   "execution_count": 29,
   "metadata": {
    "colab": {
     "base_uri": "https://localhost:8080/"
    },
    "executionInfo": {
     "elapsed": 747,
     "status": "ok",
     "timestamp": 1618577258502,
     "user": {
      "displayName": "מריה גרוס",
      "photoUrl": "https://lh3.googleusercontent.com/a-/AOh14GgfPSf2rr-MD7FgsyvUCFTAV3ZmLb9lOsoS6Sd9QQ=s64",
      "userId": "08132352751773895933"
     },
     "user_tz": -180
    },
    "id": "EZqOMRrhjgiu",
    "outputId": "547ccc52-1653-4884-8315-2869d0e549aa"
   },
   "outputs": [
    {
     "name": "stdout",
     "output_type": "stream",
     "text": [
      "              precision    recall  f1-score   support\n",
      "\n",
      "           0       1.00      1.00      1.00      3819\n",
      "           1       1.00      1.00      1.00      2111\n",
      "           2       1.00      1.00      1.00       155\n",
      "\n",
      "    accuracy                           1.00      6085\n",
      "   macro avg       1.00      1.00      1.00      6085\n",
      "weighted avg       1.00      1.00      1.00      6085\n",
      "\n"
     ]
    }
   ],
   "source": [
    "y_pred_random_forest_before_grid = cl_random_forest_before_grid.predict(X_train_transformed )\n",
    "print(classification_report(y_true= y_train, y_pred=y_pred_random_forest_before_grid))\n"
   ]
  },
  {
   "cell_type": "code",
   "execution_count": 30,
   "metadata": {
    "colab": {
     "base_uri": "https://localhost:8080/"
    },
    "executionInfo": {
     "elapsed": 737,
     "status": "ok",
     "timestamp": 1618577366994,
     "user": {
      "displayName": "מריה גרוס",
      "photoUrl": "https://lh3.googleusercontent.com/a-/AOh14GgfPSf2rr-MD7FgsyvUCFTAV3ZmLb9lOsoS6Sd9QQ=s64",
      "userId": "08132352751773895933"
     },
     "user_tz": -180
    },
    "id": "GUKqmkL3uUOW",
    "outputId": "37ddec9e-6243-40ec-c59c-d037527988d3"
   },
   "outputs": [
    {
     "name": "stdout",
     "output_type": "stream",
     "text": [
      "              precision    recall  f1-score   support\n",
      "\n",
      "           0       1.00      1.00      1.00      1620\n",
      "           1       1.00      1.00      1.00       926\n",
      "           2       1.00      1.00      1.00        62\n",
      "\n",
      "    accuracy                           1.00      2608\n",
      "   macro avg       1.00      1.00      1.00      2608\n",
      "weighted avg       1.00      1.00      1.00      2608\n",
      "\n"
     ]
    }
   ],
   "source": [
    "y_test_random_forest_before_grid = cl_random_forest_before_grid.predict(X_test_transformed )\n",
    "print(classification_report(y_true= y_test, y_pred=y_test_random_forest_before_grid))\n"
   ]
  },
  {
   "cell_type": "code",
   "execution_count": 31,
   "metadata": {
    "colab": {
     "base_uri": "https://localhost:8080/"
    },
    "executionInfo": {
     "elapsed": 832,
     "status": "ok",
     "timestamp": 1618578044755,
     "user": {
      "displayName": "מריה גרוס",
      "photoUrl": "https://lh3.googleusercontent.com/a-/AOh14GgfPSf2rr-MD7FgsyvUCFTAV3ZmLb9lOsoS6Sd9QQ=s64",
      "userId": "08132352751773895933"
     },
     "user_tz": -180
    },
    "id": "pv8XQDRZxD2d",
    "outputId": "4359dc86-91e2-4358-bf78-00cd2742a8a3"
   },
   "outputs": [
    {
     "data": {
      "text/plain": [
       "1.0"
      ]
     },
     "execution_count": 31,
     "metadata": {},
     "output_type": "execute_result"
    }
   ],
   "source": [
    "cl_random_forest_before_grid.score(X_test_transformed ,y_test)"
   ]
  },
  {
   "cell_type": "code",
   "execution_count": 32,
   "metadata": {},
   "outputs": [],
   "source": [
    "# RANDOM SEARCH"
   ]
  },
  {
   "cell_type": "code",
   "execution_count": 33,
   "metadata": {
    "colab": {
     "base_uri": "https://localhost:8080/"
    },
    "executionInfo": {
     "elapsed": 850,
     "status": "ok",
     "timestamp": 1618571705601,
     "user": {
      "displayName": "מריה גרוס",
      "photoUrl": "https://lh3.googleusercontent.com/a-/AOh14GgfPSf2rr-MD7FgsyvUCFTAV3ZmLb9lOsoS6Sd9QQ=s64",
      "userId": "08132352751773895933"
     },
     "user_tz": -180
    },
    "id": "X7S4LBU5USW5",
    "outputId": "f3bf1a76-bd2f-4439-8d9e-9eb67a12b911"
   },
   "outputs": [
    {
     "name": "stdout",
     "output_type": "stream",
     "text": [
      "{'n_estimators': [10, 120, 230, 340, 450, 560, 670, 780, 890, 1000], 'max_features': ['auto', 'sqrt'], 'max_depth': [10, 20, 30, 40, 50, 60, 70, 80, 90, 100, 110, None], 'min_samples_split': [2, 5, 10], 'min_samples_leaf': [1, 2, 4]}\n"
     ]
    }
   ],
   "source": [
    "from sklearn.model_selection import RandomizedSearchCV\n",
    "# Number of trees in random forest\n",
    "n_estimators = [int(x) for x in np.linspace(start = 10, stop = 1000, num = 10)]\n",
    "# Number of features to consider at every split\n",
    "max_features = ['auto', 'sqrt']\n",
    "# Maximum number of levels in tree\n",
    "max_depth = [int(x) for x in np.linspace(10, 110, num = 11)]\n",
    "max_depth.append(None)\n",
    "# Minimum number of samples required to split a node\n",
    "min_samples_split = [2, 5, 10]\n",
    "# Minimum number of samples required at each leaf node\n",
    "min_samples_leaf = [1, 2, 4]\n",
    "# Create the random grid\n",
    "random_grid = {'n_estimators': n_estimators,\n",
    "               'max_features': max_features,\n",
    "               'max_depth': max_depth,\n",
    "               'min_samples_split': min_samples_split,\n",
    "               'min_samples_leaf': min_samples_leaf\n",
    "              }\n",
    "print(random_grid)\n",
    "  \n",
    "\n",
    "\n"
   ]
  },
  {
   "cell_type": "code",
   "execution_count": 34,
   "metadata": {
    "executionInfo": {
     "elapsed": 737,
     "status": "ok",
     "timestamp": 1618572078723,
     "user": {
      "displayName": "מריה גרוס",
      "photoUrl": "https://lh3.googleusercontent.com/a-/AOh14GgfPSf2rr-MD7FgsyvUCFTAV3ZmLb9lOsoS6Sd9QQ=s64",
      "userId": "08132352751773895933"
     },
     "user_tz": -180
    },
    "id": "N5_O3NypZWb4"
   },
   "outputs": [],
   "source": [
    "cl_random_forest_grid = se.RandomForestClassifier()\n",
    "rf_random = RandomizedSearchCV(estimator = cl_random_forest_grid , \n",
    "                               param_distributions = random_grid,\n",
    "                               n_iter = 100,  #how many fits, tradeoff!! different combinations of hyperparameters\n",
    "                               cv = 3, #cross-validation to estimate performance\n",
    "                               verbose=2, #amount of info that will be printed during processing\n",
    "                               random_state=47, \n",
    "                               n_jobs = -1)"
   ]
  },
  {
   "cell_type": "code",
   "execution_count": 35,
   "metadata": {
    "colab": {
     "base_uri": "https://localhost:8080/"
    },
    "executionInfo": {
     "elapsed": 379668,
     "status": "ok",
     "timestamp": 1618572659617,
     "user": {
      "displayName": "מריה גרוס",
      "photoUrl": "https://lh3.googleusercontent.com/a-/AOh14GgfPSf2rr-MD7FgsyvUCFTAV3ZmLb9lOsoS6Sd9QQ=s64",
      "userId": "08132352751773895933"
     },
     "user_tz": -180
    },
    "id": "4g6DDsv8azpH",
    "outputId": "1287bb7f-fe8d-470b-8e72-619563c91c5b"
   },
   "outputs": [
    {
     "name": "stdout",
     "output_type": "stream",
     "text": [
      "Fitting 3 folds for each of 100 candidates, totalling 300 fits\n"
     ]
    },
    {
     "data": {
      "text/plain": [
       "RandomizedSearchCV(cv=3, estimator=RandomForestClassifier(), n_iter=100,\n",
       "                   n_jobs=-1,\n",
       "                   param_distributions={'max_depth': [10, 20, 30, 40, 50, 60,\n",
       "                                                      70, 80, 90, 100, 110,\n",
       "                                                      None],\n",
       "                                        'max_features': ['auto', 'sqrt'],\n",
       "                                        'min_samples_leaf': [1, 2, 4],\n",
       "                                        'min_samples_split': [2, 5, 10],\n",
       "                                        'n_estimators': [10, 120, 230, 340, 450,\n",
       "                                                         560, 670, 780, 890,\n",
       "                                                         1000]},\n",
       "                   random_state=47, verbose=2)"
      ]
     },
     "execution_count": 35,
     "metadata": {},
     "output_type": "execute_result"
    }
   ],
   "source": [
    "# Fit the random search model\n",
    "rf_random.fit(X_train_transformed, y_train)"
   ]
  },
  {
   "cell_type": "code",
   "execution_count": 37,
   "metadata": {},
   "outputs": [
    {
     "data": {
      "text/plain": [
       "{'n_estimators': 120,\n",
       " 'min_samples_split': 10,\n",
       " 'min_samples_leaf': 2,\n",
       " 'max_features': 'auto',\n",
       " 'max_depth': 80}"
      ]
     },
     "execution_count": 37,
     "metadata": {},
     "output_type": "execute_result"
    }
   ],
   "source": [
    "rf_random.best_params_"
   ]
  },
  {
   "cell_type": "code",
   "execution_count": 38,
   "metadata": {},
   "outputs": [
    {
     "data": {
      "text/plain": [
       "1.0"
      ]
     },
     "execution_count": 38,
     "metadata": {},
     "output_type": "execute_result"
    }
   ],
   "source": [
    "rf_random.score(X_train_transformed, y_train)"
   ]
  },
  {
   "cell_type": "code",
   "execution_count": 39,
   "metadata": {},
   "outputs": [
    {
     "data": {
      "text/plain": [
       "1.0"
      ]
     },
     "execution_count": 39,
     "metadata": {},
     "output_type": "execute_result"
    }
   ],
   "source": [
    "rf_random.score(X_test_transformed, y_test)"
   ]
  },
  {
   "cell_type": "code",
   "execution_count": 41,
   "metadata": {},
   "outputs": [
    {
     "data": {
      "text/plain": [
       "sklearn.ensemble._forest.RandomForestClassifier"
      ]
     },
     "execution_count": 41,
     "metadata": {},
     "output_type": "execute_result"
    }
   ],
   "source": [
    "type(rf_random.best_estimator_)"
   ]
  },
  {
   "cell_type": "code",
   "execution_count": 42,
   "metadata": {},
   "outputs": [
    {
     "data": {
      "text/plain": [
       "array([2.08899481e-03, 3.80855332e-03, 5.66633736e-01, 8.42047523e-03,\n",
       "       8.11502040e-04, 1.35563036e-02, 1.58700656e-04, 6.31745756e-02,\n",
       "       8.84181253e-02, 6.26198068e-02, 8.40967679e-02, 7.63813355e-02,\n",
       "       2.16352263e-03, 5.34712462e-03, 1.90109318e-03, 2.13443578e-04,\n",
       "       2.02059392e-02])"
      ]
     },
     "execution_count": 42,
     "metadata": {},
     "output_type": "execute_result"
    }
   ],
   "source": [
    "rf_random.best_estimator_.feature_importances_"
   ]
  },
  {
   "cell_type": "code",
   "execution_count": 43,
   "metadata": {},
   "outputs": [
    {
     "data": {
      "text/plain": [
       "PassengerId     0.002089\n",
       "HomePlanet      0.003809\n",
       "CryoSleep       0.566634\n",
       "Cabin           0.008420\n",
       "Destination     0.000812\n",
       "Age             0.013556\n",
       "VIP             0.000159\n",
       "RoomService     0.063175\n",
       "FoodCourt       0.088418\n",
       "ShoppingMall    0.062620\n",
       "Spa             0.084097\n",
       "VRDeck          0.076381\n",
       "Name            0.002164\n",
       "a               0.005347\n",
       "b               0.001901\n",
       "c               0.000213\n",
       "Transported     0.020206\n",
       "dtype: float64"
      ]
     },
     "execution_count": 43,
     "metadata": {},
     "output_type": "execute_result"
    }
   ],
   "source": [
    "fe = pd.Series(rf_random.best_estimator_.feature_importances_, index=X_train_transformed.columns)\n",
    "fe"
   ]
  },
  {
   "cell_type": "code",
   "execution_count": 48,
   "metadata": {},
   "outputs": [
    {
     "data": {
      "text/plain": [
       "<AxesSubplot:>"
      ]
     },
     "execution_count": 48,
     "metadata": {},
     "output_type": "execute_result"
    },
    {
     "data": {
      "image/png": "[encoded data removed]",
      "text/plain": [
       "<Figure size 640x480 with 1 Axes>"
      ]
     },
     "metadata": {},
     "output_type": "display_data"
    }
   ],
   "source": [
    "fe.sort_values().plot(kind='barh')"
   ]
  },
  {
   "cell_type": "code",
   "execution_count": null,
   "metadata": {},
   "outputs": [],
   "source": []
  }
 ],
 "metadata": {
  "colab": {
   "authorship_tag": "ABX9TyOW44dOsVZPvO87q6arMV4U",
   "collapsed_sections": [],
   "name": "Fetal_health_1.4.2021.ipynb",
   "provenance": []
  },
  "kernelspec": {
   "display_name": "Python 3 (ipykernel)",
   "language": "python",
   "name": "python3"
  },
  "language_info": {
   "codemirror_mode": {
    "name": "ipython",
    "version": 3
   },
   "file_extension": ".py",
   "mimetype": "text/x-python",
   "name": "python",
   "nbconvert_exporter": "python",
   "pygments_lexer": "ipython3",
   "version": "3.9.13"
  }
 },
 "nbformat": 4,
 "nbformat_minor": 1
}
